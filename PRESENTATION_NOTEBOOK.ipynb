{
 "cells": [
  {
   "cell_type": "markdown",
   "metadata": {},
   "source": [
    "# On the Algebra of Rotations in $\\mathbb{R}^3$\n",
    "## Nicholas P Meyer\n",
    "### Dep't of Mathematatics and Statistics, Winona State University"
   ]
  },
  {
   "cell_type": "code",
   "execution_count": 1,
   "metadata": {
    "ExecuteTime": {
     "end_time": "2017-07-28T08:25:19.447186Z",
     "start_time": "2017-07-28T08:25:16.646183Z"
    },
    "collapsed": false
   },
   "outputs": [
    {
     "data": {
      "application/javascript": [
       "require.undef(\"nbextensions/vpython_libraries/glow.min\");"
      ],
      "text/plain": [
       "<IPython.core.display.Javascript object>"
      ]
     },
     "metadata": {},
     "output_type": "display_data"
    },
    {
     "data": {
      "application/javascript": [
       "require.undef(\"nbextensions/vpython_libraries/glowcomm\");"
      ],
      "text/plain": [
       "<IPython.core.display.Javascript object>"
      ]
     },
     "metadata": {},
     "output_type": "display_data"
    },
    {
     "data": {
      "application/javascript": [
       "require.undef(\"nbextensions/vpython_libraries/jquery-ui.custom.min\");"
      ],
      "text/plain": [
       "<IPython.core.display.Javascript object>"
      ]
     },
     "metadata": {},
     "output_type": "display_data"
    },
    {
     "data": {
      "application/javascript": [
       "require([\"nbextensions/vpython_libraries/glow.min\"], function(){console.log(\"GLOW LOADED\");})"
      ],
      "text/plain": [
       "<IPython.core.display.Javascript object>"
      ]
     },
     "metadata": {},
     "output_type": "display_data"
    },
    {
     "data": {
      "application/javascript": [
       "require([\"nbextensions/vpython_libraries/glowcomm\"], function(){console.log(\"GLOWCOMM LOADED\");})"
      ],
      "text/plain": [
       "<IPython.core.display.Javascript object>"
      ]
     },
     "metadata": {},
     "output_type": "display_data"
    },
    {
     "data": {
      "application/javascript": [
       "require([\"nbextensions/vpython_libraries/jquery-ui.custom.min\"], function(){console.log(\"JQUERY LOADED\");})"
      ],
      "text/plain": [
       "<IPython.core.display.Javascript object>"
      ]
     },
     "metadata": {},
     "output_type": "display_data"
    }
   ],
   "source": [
    "from vpython import *\n",
    "import numpy as np\n",
    "from toolz.curried import pipe, map, filter, reduce, flip, operator as op\n",
    "\n",
    "def unit_vector(a,b,c):\n",
    "    thisMag = mag(vector(a,b,c))\n",
    "    ehat = pipe([a,b,c],\n",
    "                map(lambda x: x/thisMag),\n",
    "                list,\n",
    "                lambda lst: vector(*lst))\n",
    "    return(ehat)\n",
    "\n",
    "def randomVector(dims=3):\n",
    "    thisSample = np.random.random_sample(size=(dims,))\n",
    "    shuffle_signs = np.vectorize(lambda x: x*((-1)**np.random.randint(0,2)))\n",
    "    return pipe(thisSample, shuffle_signs, list)\n",
    "\n",
    "def setup(scene_title= 1):\n",
    "    scene = canvas(title=f\"{scene_title} @ PRESENTATION_NOTEBOOK\")\n",
    "    # display(scene)\n",
    "    scene.width = 800\n",
    "    scene.height = 600\n",
    "    scene.range = 2\n",
    "    # scene.center = vector(0,0,0)\n",
    "    # scene.forward = vector(0,0,0)\n",
    "    scene.background = vector(*[0.38 for i in range(3)])\n",
    "    global L\n",
    "    L = 1\n",
    "    global flesh\n",
    "    flesh = vector(0.941, 0.859, 0.741)\n",
    "    return scene"
   ]
  },
  {
   "cell_type": "markdown",
   "metadata": {},
   "source": [
    "Now, we create a function to render the scene. Pass it a `scene` object and an `axis_vector` to get started, advanced options are useable as well."
   ]
  },
  {
   "cell_type": "code",
   "execution_count": 2,
   "metadata": {
    "ExecuteTime": {
     "end_time": "2017-07-28T08:25:22.496184Z",
     "start_time": "2017-07-28T08:25:22.414186Z"
    },
    "cell_style": "center",
    "collapsed": false
   },
   "outputs": [],
   "source": [
    "def runScene(scene, axis_vector, *rest, tmax=35, rate_=145, comQ = False):\n",
    "    \n",
    "    head = sphere(pos=vector(0, L / 2.5, 0),\n",
    "                  radius=L / 8,\n",
    "                  color=flesh)\n",
    "\n",
    "    torso = box(pos=vector(0, 0, 0),\n",
    "                size=vector(L / 3.5, L / 2, L / 6),\n",
    "                color=flesh)\n",
    "    \n",
    "    front = box(pos=vector(0, 0, .09 * L),\n",
    "                size=vector(L / 3, L / 2, .01 * L),\n",
    "                color=vector(0.129, 0.588, 0.953))\n",
    "    \n",
    "    larm = cylinder(pos=vector(-.59 * torso.size.x, torso.size.y / 2, 0),\n",
    "                    axis=vector(0, -.4 * L, 0),\n",
    "                    radius=.04 * L,\n",
    "                    color=flesh)\n",
    "    larm.rotate(angle=-.09,\n",
    "                axis=vector(0, 0, 1),\n",
    "                origin=larm.pos)\n",
    "    \n",
    "    rarm = cylinder(pos=vector(.59 * torso.size.x, torso.size.y / 2, 0),\n",
    "                    axis=vector(0, -.4 * L, 0),\n",
    "                    radius=.04 * L,\n",
    "                    color=flesh)\n",
    "    rarm.rotate(angle=0.09,\n",
    "                axis=vector(0, 0, 1),\n",
    "                origin=rarm.pos)\n",
    "    \n",
    "    lleg = cylinder(pos=vector(-.1 * L, -.25 * L, 0),\n",
    "                    axis=vector(0, -.55 * L, 0),\n",
    "                    radius=0.05 * L,\n",
    "                    color=flesh)\n",
    "    rleg = cylinder(pos=vector(.1 * L, -.25 * L, 0),\n",
    "                    axis=vector(0, -.55 * L, 0),\n",
    "                    radius=0.05 * L,\n",
    "                    color=flesh)\n",
    "    \n",
    "    \n",
    "    if comQ:\n",
    "        com = sphere(pos=vector(0,-.07,0),\n",
    "                     radius=0.04,\n",
    "                     color=color.red)\n",
    "    \n",
    "    body = compound([head, torso, larm, rarm, lleg, rleg, front],\n",
    "                    pos=vector(0, -.07, 0))\n",
    "    body.opacity = .85\n",
    "    \n",
    "    arr1 = arrow(pos=body.pos,\n",
    "                 axis=axis_vector,\n",
    "                 color=vector(0.22, 0.557, 0.235))\n",
    "    \n",
    "    dtheta = 0.03\n",
    "    dt = 0.01\n",
    "    t = 0\n",
    "    \n",
    "    display(scene)\n",
    "    \n",
    "    while t < tmax:        \n",
    "        rate(rate_)\n",
    "        body.rotate(angle=dtheta,\n",
    "                    axis=axis_vector,\n",
    "                    origin=body.pos)\n",
    "        t += dt"
   ]
  },
  {
   "cell_type": "markdown",
   "metadata": {},
   "source": [
    "We now generate the different vectors used in different scenes"
   ]
  },
  {
   "cell_type": "code",
   "execution_count": 3,
   "metadata": {
    "ExecuteTime": {
     "end_time": "2017-07-28T09:38:44.263203Z",
     "start_time": "2017-07-28T09:38:44.210170Z"
    },
    "collapsed": false
   },
   "outputs": [
    {
     "name": "stdout",
     "output_type": "stream",
     "text": [
      "<0.467979, 0.639348, -0.610106>\n"
     ]
    }
   ],
   "source": [
    "randChoice = unit_vector(*randomVector(3)) #random rotation generated by audience\n",
    "headSpin = unit_vector(0,1,0)  #spin about head\n",
    "cartwheel = unit_vector(0,0,1)  #do cartwheels\n",
    "backflip = unit_vector(-1,0,0) #backflip\n",
    "compositeMotion = unit_vector(-1, 1, 1)  # backflip while spinning and cartwheeling\n",
    "print(randChoice)"
   ]
  },
  {
   "cell_type": "markdown",
   "metadata": {},
   "source": [
    "Make the scenes!"
   ]
  },
  {
   "cell_type": "code",
   "execution_count": 4,
   "metadata": {
    "ExecuteTime": {
     "end_time": "2017-07-28T09:39:16.026012Z",
     "start_time": "2017-07-28T09:38:56.486486Z"
    },
    "collapsed": false
   },
   "outputs": [
    {
     "data": {
      "text/html": [
       "<div id=\"glowscript\" class=\"glowscript\"></div>"
      ],
      "text/plain": [
       "<IPython.core.display.HTML object>"
      ]
     },
     "metadata": {},
     "output_type": "display_data"
    },
    {
     "data": {
      "application/javascript": [
       "window.__context = { glowscript_container: $(\"#glowscript\").removeAttr(\"id\")}"
      ],
      "text/plain": [
       "<IPython.core.display.Javascript object>"
      ]
     },
     "metadata": {},
     "output_type": "display_data"
    }
   ],
   "source": [
    "testScene = setup(\"THIS IS A TEST\")\n",
    "runScene(testScene, randChoice, tmax=20, rate_=145)"
   ]
  },
  {
   "cell_type": "markdown",
   "metadata": {},
   "source": [
    "Interpolation is handled by VPython using **SLERP** (spherical linear interpolation)"
   ]
  },
  {
   "cell_type": "code",
   "execution_count": 8,
   "metadata": {
    "ExecuteTime": {
     "end_time": "2017-07-28T09:41:20.973779Z",
     "start_time": "2017-07-28T09:39:24.865974Z"
    },
    "collapsed": false,
    "deletable": true,
    "editable": true
   },
   "outputs": [
    {
     "data": {
      "text/html": [
       "<div id=\"glowscript\" class=\"glowscript\"></div>"
      ],
      "text/plain": [
       "<IPython.core.display.HTML object>"
      ]
     },
     "metadata": {},
     "output_type": "display_data"
    },
    {
     "data": {
      "application/javascript": [
       "window.__context = { glowscript_container: $(\"#glowscript\").removeAttr(\"id\")}"
      ],
      "text/plain": [
       "<IPython.core.display.Javascript object>"
      ]
     },
     "metadata": {},
     "output_type": "display_data"
    }
   ],
   "source": [
    "scene0 = setup(\"Head Spin\")\n",
    "runScene(scene0, headSpin)"
   ]
  },
  {
   "cell_type": "code",
   "execution_count": 5,
   "metadata": {
    "ExecuteTime": {
     "end_time": "2017-07-28T09:40:17.718468Z",
     "start_time": "2017-07-28T09:39:49.443936Z"
    },
    "collapsed": false,
    "deletable": true,
    "editable": true
   },
   "outputs": [
    {
     "data": {
      "text/html": [
       "<div id=\"glowscript\" class=\"glowscript\"></div>"
      ],
      "text/plain": [
       "<IPython.core.display.HTML object>"
      ]
     },
     "metadata": {},
     "output_type": "display_data"
    },
    {
     "data": {
      "application/javascript": [
       "window.__context = { glowscript_container: $(\"#glowscript\").removeAttr(\"id\")}"
      ],
      "text/plain": [
       "<IPython.core.display.Javascript object>"
      ]
     },
     "metadata": {},
     "output_type": "display_data"
    }
   ],
   "source": [
    "scene1 = setup(\"Cartwheel\")\n",
    "runScene(scene1, cartwheel)"
   ]
  },
  {
   "cell_type": "code",
   "execution_count": 7,
   "metadata": {
    "ExecuteTime": {
     "end_time": "2017-07-28T09:41:17.752053Z",
     "start_time": "2017-07-28T09:40:18.939272Z"
    },
    "collapsed": false,
    "deletable": true,
    "editable": true
   },
   "outputs": [
    {
     "data": {
      "text/html": [
       "<div id=\"glowscript\" class=\"glowscript\"></div>"
      ],
      "text/plain": [
       "<IPython.core.display.HTML object>"
      ]
     },
     "metadata": {},
     "output_type": "display_data"
    },
    {
     "data": {
      "application/javascript": [
       "window.__context = { glowscript_container: $(\"#glowscript\").removeAttr(\"id\")}"
      ],
      "text/plain": [
       "<IPython.core.display.Javascript object>"
      ]
     },
     "metadata": {},
     "output_type": "display_data"
    }
   ],
   "source": [
    "scene2 = setup(\"Backflip\")\n",
    "runScene(scene2, backflip)"
   ]
  },
  {
   "cell_type": "code",
   "execution_count": 6,
   "metadata": {
    "ExecuteTime": {
     "end_time": "2017-07-28T09:41:02.354565Z",
     "start_time": "2017-07-28T09:40:33.377639Z"
    },
    "collapsed": false,
    "deletable": true,
    "editable": true
   },
   "outputs": [
    {
     "data": {
      "text/html": [
       "<div id=\"glowscript\" class=\"glowscript\"></div>"
      ],
      "text/plain": [
       "<IPython.core.display.HTML object>"
      ]
     },
     "metadata": {},
     "output_type": "display_data"
    },
    {
     "data": {
      "application/javascript": [
       "window.__context = { glowscript_container: $(\"#glowscript\").removeAttr(\"id\")}"
      ],
      "text/plain": [
       "<IPython.core.display.Javascript object>"
      ]
     },
     "metadata": {},
     "output_type": "display_data"
    }
   ],
   "source": [
    "scene3 = setup(\"Composite Motion\")\n",
    "runScene(scene3, compositeMotion)"
   ]
  },
  {
   "cell_type": "code",
   "execution_count": null,
   "metadata": {
    "ExecuteTime": {
     "end_time": "2017-07-27T22:58:25.713871Z",
     "start_time": "2017-07-27T22:58:25.704872Z"
    },
    "collapsed": false,
    "deletable": true,
    "editable": true
   },
   "outputs": [],
   "source": []
  },
  {
   "cell_type": "code",
   "execution_count": null,
   "metadata": {
    "collapsed": true,
    "deletable": true,
    "editable": true
   },
   "outputs": [],
   "source": []
  }
 ],
 "metadata": {
  "anaconda-cloud": {},
  "kernelspec": {
   "display_name": "VPython",
   "language": "python",
   "name": "vpython"
  },
  "language_info": {
   "codemirror_mode": {
    "name": "ipython",
    "version": 3
   },
   "file_extension": ".py",
   "mimetype": "text/x-python",
   "name": "python",
   "nbconvert_exporter": "python",
   "pygments_lexer": "ipython3",
   "version": "3.6.2"
  },
  "varInspector": {
   "cols": {
    "lenName": 16,
    "lenType": 16,
    "lenVar": 40
   },
   "kernels_config": {
    "python": {
     "delete_cmd_postfix": "",
     "delete_cmd_prefix": "del ",
     "library": "var_list.py",
     "varRefreshCmd": "print(var_dic_list())"
    },
    "r": {
     "delete_cmd_postfix": ") ",
     "delete_cmd_prefix": "rm(",
     "library": "var_list.r",
     "varRefreshCmd": "cat(var_dic_list()) "
    }
   },
   "types_to_exclude": [
    "module",
    "function",
    "builtin_function_or_method",
    "instance",
    "_Feature"
   ],
   "window_display": false
  }
 },
 "nbformat": 4,
 "nbformat_minor": 1
}
